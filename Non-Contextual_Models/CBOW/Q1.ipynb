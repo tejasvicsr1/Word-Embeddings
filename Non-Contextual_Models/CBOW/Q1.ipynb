{
  "nbformat": 4,
  "nbformat_minor": 2,
  "metadata": {
    "accelerator": "GPU",
    "colab": {
      "name": "CBOW.ipynb",
      "provenance": [],
      "collapsed_sections": []
    },
    "kernelspec": {
      "display_name": "Python 3",
      "name": "python3"
    },
    "language_info": {
      "name": "python"
    }
  },
  "cells": [
    {
      "cell_type": "markdown",
      "source": [
        "# Advanced Natural Processing\n",
        "---\n",
        "## Assignment 1\n",
        "\n",
        "#### Tejasvi Chebrolu\n",
        "#### 2019114005\n",
        "\n",
        "### Word Vectors Using CBOW\n"
      ],
      "metadata": {
        "id": "xWFlxn664VCD"
      }
    },
    {
      "cell_type": "code",
      "execution_count": 22,
      "source": [
        "import json\n",
        "import re\n",
        "import numpy as np\n",
        "from scipy import sparse\n",
        "from tqdm import tqdm\n",
        "import keras.backend as K\n",
        "from keras.models import Sequential\n",
        "from keras.layers import Dense, Embedding, Lambda\n",
        "from keras.utils.data_utils import get_file\n",
        "from keras.utils import np_utils\n",
        "from keras.preprocessing import sequence\n",
        "from keras.preprocessing.text import Tokenizer\n",
        "from google.colab import drive\n",
        "import gensim"
      ],
      "outputs": [],
      "metadata": {
        "id": "DDwQJEbk4Pts"
      }
    },
    {
      "cell_type": "markdown",
      "source": [
        "## Loading The Dataset\n",
        "---\n",
        "\n",
        "The dataset is loaded as a json file.\n",
        "\n"
      ],
      "metadata": {
        "id": "3w8HeAT45Cm3"
      }
    },
    {
      "cell_type": "code",
      "execution_count": 23,
      "source": [
        "def get_data_from_json(path):\n",
        "  data = []\n",
        "  f = open(path)\n",
        "  for a in f:\n",
        "    data.append(json.loads(a))\n",
        "  return data"
      ],
      "outputs": [],
      "metadata": {
        "id": "nF26KrBA5HJT"
      }
    },
    {
      "cell_type": "markdown",
      "source": [
        "## Mounting The Drive\n",
        "\n",
        "---\n",
        "\n",
        "The dataset is on google drive and hence needs to be mounted."
      ],
      "metadata": {
        "id": "Xc9F1rTJ5Jj4"
      }
    },
    {
      "cell_type": "code",
      "execution_count": 24,
      "source": [
        "def mount_drive():\n",
        "  drive.mount('/content/drive')"
      ],
      "outputs": [],
      "metadata": {
        "id": "3ZwA7-E-5P5R"
      }
    },
    {
      "cell_type": "markdown",
      "source": [
        "## Data Preprocessing\n",
        "---\n",
        "\n",
        "The data was cleaned as follows:\n",
        "- Everything was converted into lowercase.\n",
        "- Punctuations were removed from the data.\n",
        "\n",
        "Lists containing the words, and the sentences were returned."
      ],
      "metadata": {
        "id": "cnd-V4QW5-k6"
      }
    },
    {
      "cell_type": "code",
      "execution_count": 25,
      "source": [
        "def clean_data(data, length):\n",
        "  punctuations='''!()-[]{};:'\"\\,<>./?@#$%^&*_~+='''\n",
        "  final_text = []\n",
        "  docs = []\n",
        "  for a in tqdm(data[:length]):\n",
        "    text = (a['reviewText']).lower()\n",
        "    for x in text:\n",
        "      if x in punctuations:\n",
        "        text = text.replace(x, \" \")\n",
        "    sentence = text.split()\n",
        "    docs.append(sentence)\n",
        "    for word in sentence:\n",
        "      final_text.append(word)\n",
        "  \n",
        "  return final_text, docs"
      ],
      "outputs": [],
      "metadata": {
        "id": "qr_8NvwY6Foe"
      }
    },
    {
      "cell_type": "markdown",
      "source": [
        "## Generate The Contexts and Labels\n",
        "\n",
        "Return an iterable that creates in generating the data."
      ],
      "metadata": {
        "id": "vvYBldduCT1v"
      }
    },
    {
      "cell_type": "code",
      "execution_count": 26,
      "source": [
        "\n",
        "\n",
        "def generate_data(corpus, window_size, V):\n",
        "    maxlen = window_size*2\n",
        "    for words in corpus:\n",
        "        L = len(words)\n",
        "        for index, word in enumerate(words):\n",
        "            contexts = []\n",
        "            labels   = []            \n",
        "            s = index - window_size\n",
        "            e = index + window_size + 1\n",
        "            \n",
        "            contexts.append([words[i] for i in range(s, e) if 0 <= i < L and i != index])\n",
        "            labels.append(word)\n",
        "\n",
        "            x = sequence.pad_sequences(contexts, maxlen=maxlen)\n",
        "            y = np_utils.to_categorical(labels, V)\n",
        "            yield (x, y)\n",
        "\n"
      ],
      "outputs": [],
      "metadata": {
        "id": "YB_XNwPc8d-N"
      }
    },
    {
      "cell_type": "markdown",
      "source": [
        "## Entry Point"
      ],
      "metadata": {
        "id": "RMXvctj3DD4w"
      }
    },
    {
      "cell_type": "code",
      "execution_count": 27,
      "source": [
        "mount_drive()\n",
        "data = get_data_from_json('/content/drive/MyDrive/Electronics_5.json')"
      ],
      "outputs": [
        {
          "output_type": "stream",
          "name": "stdout",
          "text": [
            "Drive already mounted at /content/drive; to attempt to forcibly remount, call drive.mount(\"/content/drive\", force_remount=True).\n"
          ]
        }
      ],
      "metadata": {
        "colab": {
          "base_uri": "https://localhost:8080/"
        },
        "id": "czy3wGLa7uT6",
        "outputId": "df1dedd4-ed9e-4f69-a924-55c0949f2521"
      }
    },
    {
      "cell_type": "code",
      "execution_count": 28,
      "source": [
        "all_text, docs = clean_data(data, 2000)"
      ],
      "outputs": [
        {
          "output_type": "stream",
          "name": "stderr",
          "text": [
            "100%|██████████| 2000/2000 [00:00<00:00, 18327.30it/s]\n"
          ]
        }
      ],
      "metadata": {
        "colab": {
          "base_uri": "https://localhost:8080/"
        },
        "id": "FRB188cG8HYs",
        "outputId": "3a364b3a-fc39-4a99-f3b4-91bf5043b951"
      }
    },
    {
      "cell_type": "markdown",
      "source": [
        "## Hyperparameters\n",
        "\n",
        "The hyperparameters are defined"
      ],
      "metadata": {
        "id": "gXLJktumlW7X"
      }
    },
    {
      "cell_type": "code",
      "execution_count": 29,
      "source": [
        "Tokenizer().fit_on_texts(docs)\n",
        "corpus = Tokenizer().texts_to_sequences(docs)\n",
        "nb_samples = sum(len(s) for s in corpus)\n",
        "dim = 100\n",
        "window_size = 2\n",
        "epochs = 1\n",
        "V = len(Tokenizer().word_index) + 1"
      ],
      "outputs": [],
      "metadata": {
        "id": "GJeUyARt8SCx"
      }
    },
    {
      "cell_type": "code",
      "execution_count": 30,
      "source": [
        "cbow = Sequential()\n",
        "cbow.add(Embedding(input_dim=V, output_dim=dim, input_length=window_size*2))\n",
        "cbow.add(Lambda(lambda x: K.mean(x, axis=1), output_shape=(dim,)))\n",
        "cbow.add(Dense(V, activation='softmax'))"
      ],
      "outputs": [],
      "metadata": {
        "id": "ii6Feo0V8mL_"
      }
    },
    {
      "cell_type": "code",
      "execution_count": 32,
      "source": [
        "cbow.compile(loss='categorical_crossentropy', optimizer='adadelta')"
      ],
      "outputs": [],
      "metadata": {
        "id": "W55uHiZk8rHZ"
      }
    },
    {
      "cell_type": "code",
      "execution_count": 33,
      "source": [
        "for ite in range(epochs):\n",
        "    loss = 0.\n",
        "    for x, y in tqdm(generate_data(corpus, window_size, V)):\n",
        "        loss += cbow.train_on_batch(x, y)"
      ],
      "outputs": [
        {
          "output_type": "stream",
          "name": "stderr",
          "text": [
            "227505it [29:45, 127.43it/s]"
          ]
        },
        {
          "output_type": "stream",
          "name": "stdout",
          "text": [
            "0 2099166.995997429\n"
          ]
        },
        {
          "output_type": "stream",
          "name": "stderr",
          "text": [
            "\n"
          ]
        }
      ],
      "metadata": {
        "colab": {
          "base_uri": "https://localhost:8080/"
        },
        "id": "GieNecdO8uTg",
        "outputId": "d84509eb-60ef-438c-d6b3-520e87d97da9"
      }
    },
    {
      "cell_type": "code",
      "execution_count": 35,
      "source": [
        "vector_file = open('/content/drive/MyDrive/embeddings1.txt', 'w')\n",
        "vector_file.write('{} {}\\n'.format(V-1, dim))"
      ],
      "outputs": [
        {
          "output_type": "execute_result",
          "data": {
            "text/plain": [
              "10"
            ]
          },
          "metadata": {},
          "execution_count": 35
        }
      ],
      "metadata": {
        "colab": {
          "base_uri": "https://localhost:8080/"
        },
        "id": "Dpd40xc_CO5N",
        "outputId": "e202727b-70ca-4616-9825-f15d6220ec52"
      }
    },
    {
      "cell_type": "code",
      "execution_count": 36,
      "source": [
        "vectors = cbow.get_weights()[0]\n",
        "for word, i in Tokenizer().word_index.items():\n",
        "    vector_file.write('{} {}\\n'.format(word, ' '.join(map(str, list(vectors[i, :])))))\n",
        "vector_file.close()"
      ],
      "outputs": [],
      "metadata": {
        "id": "8LXJf7MUgU0y"
      }
    },
    {
      "cell_type": "code",
      "execution_count": 37,
      "source": [
        "w2v = gensim.models.KeyedVectors.load_word2vec_format('/content/drive/MyDrive/embeddings1.txt', binary=False)"
      ],
      "outputs": [],
      "metadata": {
        "id": "7ZmRsm8qg1Qv"
      }
    },
    {
      "cell_type": "markdown",
      "source": [
        "## Evaluating The Model\n",
        "\n",
        "## The words chose are:\n",
        "\n",
        "- laptop (noun)\n",
        "- camera (noun)\n",
        "- weak (verb)\n",
        "- buy (verb)\n",
        "- amazing(adjective)\n",
        "- tv (noun)\n",
        "\n",
        "The 10 closest words are printed for each of the word, along with the word included."
      ],
      "metadata": {
        "id": "Xppv2QS5lGor"
      }
    },
    {
      "cell_type": "code",
      "execution_count": 42,
      "source": [
        "WORDS = ['laptop', 'camera', 'weak', 'buy', 'amazing', 'tv']\n",
        "print(\"-\" * 20)\n",
        "for word in WORDS:\n",
        "  cw = w2v.most_similar(positive=[word])\n",
        "  print(\"The word is: \", word)\n",
        "  print(\"-\" * 20)\n",
        "  for i, nw in enumerate(cw):\n",
        "    print(\"{}. {}\".format(i + 1, nw[0]))\n",
        "  print(\"-\" * 20)"
      ],
      "outputs": [
        {
          "output_type": "stream",
          "name": "stdout",
          "text": [
            "--------------------\n",
            "The word is:  laptop\n",
            "--------------------\n",
            "1. thatcher\n",
            "2. endemic\n",
            "3. einkconclusion\n",
            "4. carry\n",
            "5. sideload\n",
            "6. fiber\n",
            "7. coverage\n",
            "8. annoyance\n",
            "9. manuals\n",
            "10. crack\n",
            "--------------------\n",
            "The word is:  camera\n",
            "--------------------\n",
            "1. confidence\n",
            "2. entirely\n",
            "3. shutter\n",
            "4. 63\n",
            "5. 283\n",
            "6. booksyou\n",
            "7. togther\n",
            "8. slight\n",
            "9. lyrics\n",
            "10. clunkiness\n",
            "--------------------\n",
            "The word is:  weak\n",
            "--------------------\n",
            "1. okvery\n",
            "2. purely\n",
            "3. avoiding\n",
            "4. regretted\n",
            "5. hear\n",
            "6. sides\n",
            "7. thanwe\n",
            "8. road4\n",
            "9. elite\n",
            "10. bookmark\n",
            "--------------------\n",
            "The word is:  buy\n",
            "--------------------\n",
            "1. remembered\n",
            "2. needs\n",
            "3. retailed\n",
            "4. neglected\n",
            "5. burger\n",
            "6. plywood\n",
            "7. that\n",
            "8. pieces\n",
            "9. googled\n",
            "10. kunu\n",
            "--------------------\n",
            "The word is:  amazing\n",
            "--------------------\n",
            "1. displaying\n",
            "2. printer\n",
            "3. bags\n",
            "4. nights\n",
            "5. monkey\n",
            "6. conclusion\n",
            "7. marware\n",
            "8. eyesight\n",
            "9. chosen\n",
            "10. football\n",
            "--------------------\n",
            "The word is:  tv\n",
            "--------------------\n",
            "1. tricks\n",
            "2. different\n",
            "3. album\n",
            "4. t101mt\n",
            "5. superlative\n",
            "6. settings\n",
            "7. cleaned\n",
            "8. 2010after\n",
            "9. franklin\n",
            "10. tug\n",
            "--------------------\n"
          ]
        }
      ],
      "metadata": {
        "colab": {
          "base_uri": "https://localhost:8080/"
        },
        "id": "4_s68t0jhA1q",
        "outputId": "d8257e22-b982-4707-e69e-47355e4cdc20"
      }
    },
    {
      "cell_type": "markdown",
      "source": [
        "---\n"
      ],
      "metadata": {
        "id": "IBEdmLRulp4e"
      }
    }
  ]
}
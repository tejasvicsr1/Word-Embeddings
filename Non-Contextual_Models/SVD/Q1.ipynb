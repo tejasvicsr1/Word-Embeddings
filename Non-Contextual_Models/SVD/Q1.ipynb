{
  "nbformat": 4,
  "nbformat_minor": 2,
  "metadata": {
    "colab": {
      "name": "AdvancedNLP.ipynb",
      "provenance": [],
      "collapsed_sections": []
    },
    "kernelspec": {
      "name": "python3",
      "display_name": "Python 3"
    },
    "language_info": {
      "name": "python"
    }
  },
  "cells": [
    {
      "cell_type": "markdown",
      "source": [
        "# Advanced Natural Processing\n",
        "---\n",
        "## Assignment 1\n",
        "\n",
        "#### Tejasvi Chebrolu\n",
        "#### 2019114005\n",
        "\n",
        "### Word Vectors Using SVD\n",
        "\n"
      ],
      "metadata": {
        "id": "fUADfjJDwK-X"
      }
    },
    {
      "cell_type": "markdown",
      "source": [
        "## Import Statements\n",
        "---\n",
        "\n",
        "- `json` to deal with the json files.\n",
        "- `re` for regular expressions.\n",
        "- `numpy`, `scipy` for matrix calculation.\n",
        "- `tqdm` to for checking progress .\n",
        "- `TruncatedSVD`, 'TSNE' to do the SVD and for reducing the dimension space.\n",
        "- `pyplot` for visualizing the vectors in 2-dimensions.\n"
      ],
      "metadata": {
        "id": "bQaNDBe2q9Ya"
      }
    },
    {
      "cell_type": "code",
      "execution_count": 1,
      "source": [
        "import json\n",
        "import re\n",
        "import numpy as np\n",
        "from scipy import sparse\n",
        "from tqdm import tqdm\n",
        "import matplotlib.pyplot as plt\n",
        "from sklearn.decomposition import TruncatedSVD\n",
        "from sklearn.manifold import TSNE\n",
        "from google.colab import drive"
      ],
      "outputs": [],
      "metadata": {
        "id": "Z-tk8mDQ6cF2"
      }
    },
    {
      "cell_type": "markdown",
      "source": [
        "## Loading The Dataset\n",
        "---\n",
        "\n",
        "The dataset is loaded as a json file.\n"
      ],
      "metadata": {
        "id": "G-hR160Dwu8G"
      }
    },
    {
      "cell_type": "code",
      "execution_count": 2,
      "source": [
        "def get_data_from_json(path):\n",
        "  data = []\n",
        "  f = open(path)\n",
        "  for a in f:\n",
        "    data.append(json.loads(a))\n",
        "  return data"
      ],
      "outputs": [],
      "metadata": {
        "id": "4UbIbUGmHpZ9"
      }
    },
    {
      "cell_type": "markdown",
      "source": [
        "## Mounting The Drive\n",
        "---\n",
        "\n",
        "The dataset is on google drive and hence needs to be mounted."
      ],
      "metadata": {
        "id": "sH-N3U9TxGSz"
      }
    },
    {
      "cell_type": "code",
      "execution_count": 3,
      "source": [
        "def mount_drive():\n",
        "  drive.mount('/content/drive')"
      ],
      "outputs": [],
      "metadata": {
        "id": "ExSAfyltSO8j"
      }
    },
    {
      "cell_type": "markdown",
      "source": [
        "## Data Preprocessing\n",
        "---\n",
        "\n",
        "The data was cleaned as follows:\n",
        "- Everything was converted into lowercase.\n",
        "- Punctuations were removed from the data.\n",
        "- Start and End tags were added to the the beginning and the end of every review.\n",
        "\n",
        "Lists containing the words, and the sentences were returned."
      ],
      "metadata": {
        "id": "a_YfsAaFxQGj"
      }
    },
    {
      "cell_type": "code",
      "execution_count": 4,
      "source": [
        "def clean_data(data, length):\n",
        "  punctuations='''!()-[]{};:'\"\\,<>./?@#$%^&*_~+='''\n",
        "  final_text = []\n",
        "  docs = []\n",
        "  for a in tqdm(data[:length]):\n",
        "    text = (a['reviewText']).lower()\n",
        "    for x in text:\n",
        "      if x in punctuations:\n",
        "        text = text.replace(x, \" \")\n",
        "    sentence = ['<S>'] + text.split() + ['</S>']\n",
        "    docs.append(sentence)\n",
        "    for word in sentence:\n",
        "      final_text.append(word)\n",
        "  \n",
        "  return final_text, docs"
      ],
      "outputs": [],
      "metadata": {
        "id": "C4kwMIMZS0Oa"
      }
    },
    {
      "cell_type": "markdown",
      "source": [
        "## Indexing Variables\n",
        "---\n",
        "\n",
        "All the unique words were given an index for further use."
      ],
      "metadata": {
        "id": "zkeESG9myIZd"
      }
    },
    {
      "cell_type": "code",
      "execution_count": 5,
      "source": [
        "def assign_words_a_number(text):\n",
        "  unique_words = list(set(text))\n",
        "  unique_dict = {}\n",
        "  for i in range(len(unique_words)):\n",
        "    unique_dict[unique_words[i]] = i\n",
        "  return unique_words, unique_dict"
      ],
      "outputs": [],
      "metadata": {
        "id": "cu99UckoVySb"
      }
    },
    {
      "cell_type": "markdown",
      "source": [
        "## Co-Occurence Matrix Construction\n",
        "---\n",
        "\n",
        "The co-occurence matrix was constructed."
      ],
      "metadata": {
        "id": "oR1MG_uayUMU"
      }
    },
    {
      "cell_type": "code",
      "execution_count": 6,
      "source": [
        "def create_covariance_matrix(docs, window):\n",
        "  covariance_matrix = np.zeros((len(unique_words), len(unique_words)))\n",
        "  for sentence in docs:\n",
        "    for i in range(len(sentence)):\n",
        "      for w in range(window):\n",
        "        if i - 1 - w >= 0:\n",
        "          covariance_matrix[unique_dict[sentence[i]]][unique_dict[sentence[(i - 1 - w)]]] += 1\n",
        "        if i + 1 + w < len(sentence):\n",
        "          covariance_matrix[unique_dict[sentence[i]]][unique_dict[sentence[(i + 1 + w)]]] += 1\n",
        "  return covariance_matrix"
      ],
      "outputs": [],
      "metadata": {
        "id": "h8wJTcmJee79"
      }
    },
    {
      "cell_type": "markdown",
      "source": [
        "## Running SVD\n",
        "---\n",
        "\n",
        "SVD was run on the matrix."
      ],
      "metadata": {
        "id": "ljt0wFOBy5M_"
      }
    },
    {
      "cell_type": "code",
      "execution_count": 7,
      "source": [
        "def SVD(matrix, dimensions, n_iters):\n",
        "  SVD = TruncatedSVD(n_components=dimensions, n_iter=n_iters)\n",
        "  M_reduced = SVD.fit_transform(matrix)\n",
        "  return M_reduced"
      ],
      "outputs": [],
      "metadata": {
        "id": "fXf3e0chhy4u"
      }
    },
    {
      "cell_type": "markdown",
      "source": [
        "## t-SNE\n",
        "---\n",
        "\n",
        "The matrix is reduced to two dimensions after SVD."
      ],
      "metadata": {
        "id": "sugCkygey_xW"
      }
    },
    {
      "cell_type": "code",
      "execution_count": 8,
      "source": [
        "def shift_dimensions(matrix, new_dimensions):\n",
        "  Y = TSNE(n_components=new_dimensions, random_state=2).fit_transform(matrix)\n",
        "  return Y[:, 0], Y[:, 1]"
      ],
      "outputs": [],
      "metadata": {
        "id": "ICvMIUhJkYtm"
      }
    },
    {
      "cell_type": "markdown",
      "source": [
        "## Euclidean Distance\n",
        "---\n",
        "\n",
        "Function to find the Euclidean distance between two vectors."
      ],
      "metadata": {
        "id": "rqropvIpzKS0"
      }
    },
    {
      "cell_type": "code",
      "execution_count": 9,
      "source": [
        "def distance(x_coords, y_coords, original_index, required_index):\n",
        "  return abs((float(x_coords[original_index]) - float(x_coords[required_index]))**2 - (float(y_coords[original_index]) - float(y_coords[required_index]))**2)"
      ],
      "outputs": [],
      "metadata": {
        "id": "6cG-4f-Wk0t3"
      }
    },
    {
      "cell_type": "markdown",
      "source": [
        "## Closest `n` Vectors For A Vector\n",
        "---\n",
        "\n",
        "Function that returns the closest `n` words given a word."
      ],
      "metadata": {
        "id": "c3Kj48WczTee"
      }
    },
    {
      "cell_type": "code",
      "execution_count": 10,
      "source": [
        "def find_closest_words(word, number):\n",
        "  closest = {}\n",
        "  index = unique_dict[word]\n",
        "  for i in range(len(unique_words)):\n",
        "    closest[reverse_dict[i]] = distance(x_coords, y_coords, index, i)\n",
        "  sorted_dict = {k: v for k, v in sorted(closest.items(), key=lambda item: item[1])}\n",
        "  return list(sorted_dict.keys())[:number]"
      ],
      "outputs": [],
      "metadata": {
        "id": "q5twzvcsiXBK"
      }
    },
    {
      "cell_type": "markdown",
      "source": [
        "## Reverse Dictionary\n",
        "---\n",
        "\n",
        "Function to invert keys and pairs."
      ],
      "metadata": {
        "id": "38hWe5RZzf9Q"
      }
    },
    {
      "cell_type": "code",
      "execution_count": 11,
      "source": [
        "def reverse_dict(old_dict):\n",
        "  new_dict = {}\n",
        "  for key in old_dict:\n",
        "    new_dict[old_dict[key]] = key\n",
        "  return new_dict"
      ],
      "outputs": [],
      "metadata": {
        "id": "HQPmllO9tGCY"
      }
    },
    {
      "cell_type": "markdown",
      "source": [
        "## Entry Point\n",
        "---"
      ],
      "metadata": {
        "id": "pTILXczJzqTa"
      }
    },
    {
      "cell_type": "code",
      "execution_count": 12,
      "source": [
        "mount_drive()\n",
        "data = get_data_from_json('/content/drive/MyDrive/Electronics_5.json')"
      ],
      "outputs": [
        {
          "output_type": "stream",
          "name": "stdout",
          "text": [
            "Drive already mounted at /content/drive; to attempt to forcibly remount, call drive.mount(\"/content/drive\", force_remount=True).\n"
          ]
        }
      ],
      "metadata": {
        "colab": {
          "base_uri": "https://localhost:8080/"
        },
        "id": "voIqAGS0SVuQ",
        "outputId": "6deddce6-645a-4100-8cc1-edaf87bafdb4"
      }
    },
    {
      "cell_type": "code",
      "execution_count": 13,
      "source": [
        "all_text, docs = clean_data(data, 7000)"
      ],
      "outputs": [
        {
          "output_type": "stream",
          "name": "stderr",
          "text": [
            "100%|██████████| 7000/7000 [00:00<00:00, 14720.23it/s]\n"
          ]
        }
      ],
      "metadata": {
        "colab": {
          "base_uri": "https://localhost:8080/"
        },
        "id": "WlLKP__eVeJo",
        "outputId": "574c418f-b9cd-424d-f899-8f93dda672ad"
      }
    },
    {
      "cell_type": "code",
      "execution_count": 14,
      "source": [
        "unique_words, unique_dict = assign_words_a_number(all_text)"
      ],
      "outputs": [],
      "metadata": {
        "id": "zfkgX5DTaCSt"
      }
    },
    {
      "cell_type": "code",
      "execution_count": 15,
      "source": [
        "WINDOW = 2\n",
        "VOCABULARY = len(unique_words)\n",
        "EPOCHS = 10\n",
        "DIMENSION = 100\n",
        "REDUCED_DIMENSION = 2\n",
        "NUM_MOST_SIMILAR_WORDS = 11\n",
        "\n",
        "print(\"HYPERPARAMETERS:\")\n",
        "print(\"-\" * 20)\n",
        "print(\"VOCABULARY SIZE: \", VOCABULARY)\n",
        "print(\"EPOCHS: \", EPOCHS)\n",
        "print(\"EMBEDDING DIMENSION: \", DIMENSION)"
      ],
      "outputs": [
        {
          "output_type": "stream",
          "name": "stdout",
          "text": [
            "HYPERPARAMETERS:\n",
            "--------------------\n",
            "VOCABULARY SIZE:  20692\n",
            "EPOCHS:  10\n",
            "EMBEDDING DIMENSION:  100\n"
          ]
        }
      ],
      "metadata": {
        "colab": {
          "base_uri": "https://localhost:8080/"
        },
        "id": "357LOEvWtmjD",
        "outputId": "2dc017ab-aae6-4866-e50c-708494d88a0e"
      }
    },
    {
      "cell_type": "code",
      "execution_count": 16,
      "source": [
        "covariance_matrix = create_covariance_matrix(docs, WINDOW)"
      ],
      "outputs": [],
      "metadata": {
        "id": "6ExW1I41hsNA"
      }
    },
    {
      "cell_type": "markdown",
      "source": [
        "## Final Vectors\n",
        "---\n"
      ],
      "metadata": {
        "id": "NsKNk9xszwa-"
      }
    },
    {
      "cell_type": "code",
      "execution_count": 17,
      "source": [
        "M_reduced = SVD(covariance_matrix, DIMENSION, EPOCHS)\n",
        "print(M_reduced)"
      ],
      "outputs": [
        {
          "output_type": "stream",
          "name": "stdout",
          "text": [
            "[[ 8.78976604e-01 -7.68900046e-01 -3.47440362e-01 ... -5.53419091e-02\n",
            "   4.58323307e-02 -2.46265370e-02]\n",
            " [ 9.70749751e-02  3.35407450e-02  1.38258658e-02 ...  7.23737163e-02\n",
            "  -3.24118941e-02 -2.07486731e-02]\n",
            " [ 6.11131246e-01 -4.76378442e-01 -4.79482439e-01 ... -1.77321090e-02\n",
            "   5.52291534e-03  2.61369188e-02]\n",
            " ...\n",
            " [ 9.98381996e+01  5.46533584e+00 -2.40894685e+01 ... -4.60824393e-04\n",
            "  -6.91714918e+00 -3.46139424e-02]\n",
            " [ 1.12882009e+00 -9.46711060e-01 -9.95268520e-01 ... -4.88738298e-02\n",
            "  -1.92732178e-03  2.06700334e-02]\n",
            " [ 1.00023578e+00 -5.59676722e-02 -7.69411187e-01 ...  1.69279901e-01\n",
            "   4.22029663e-02 -1.06523217e-02]]\n"
          ]
        }
      ],
      "metadata": {
        "colab": {
          "base_uri": "https://localhost:8080/"
        },
        "id": "xruQin3Jjbg-",
        "outputId": "14b19a0a-ac4f-4bc2-dd9a-76929fa4eb7d"
      }
    },
    {
      "cell_type": "code",
      "execution_count": 18,
      "source": [
        "x_coords, y_coords = shift_dimensions(M_reduced, REDUCED_DIMENSION)"
      ],
      "outputs": [],
      "metadata": {
        "id": "gWyoiX0tk-s4"
      }
    },
    {
      "cell_type": "markdown",
      "source": [
        "## Visulisation\n",
        "---\n",
        "\n",
        "Visualising the words:\n",
        "- monitor\n",
        "- mounts\n",
        "- put\n",
        "- together\n",
        "- samsung\n",
        "- tv"
      ],
      "metadata": {
        "id": "oELRqyVq2e2U"
      }
    },
    {
      "cell_type": "code",
      "execution_count": 19,
      "source": [
        "temp_words = [\"monitor\", \"mounts\", \"put\", \"together\", \"samsung\", \"tv\"]\n",
        "\n",
        "for word in temp_words:\n",
        "  coord = unique_dict[word]\n",
        "  x = x_coords[coord]\n",
        "  y = y_coords[coord]\n",
        "  plt.scatter(x,y, marker='x', color='red')\n",
        "  plt.text(x, y, word, fontsize=9)\n",
        "plt.show()"
      ],
      "outputs": [
        {
          "output_type": "display_data",
          "data": {
            "image/png": "[encoded data removed]",
            "text/plain": [
              "<Figure size 432x288 with 1 Axes>"
            ]
          },
          "metadata": {
            "needs_background": "light"
          }
        }
      ],
      "metadata": {
        "colab": {
          "base_uri": "https://localhost:8080/",
          "height": 265
        },
        "id": "0U0emcxQl3mT",
        "outputId": "bc4e787e-ab2f-4a17-f781-500a94b7d608"
      }
    },
    {
      "cell_type": "code",
      "execution_count": 20,
      "source": [
        "reverse_dict = reverse_dict(unique_dict)"
      ],
      "outputs": [],
      "metadata": {
        "id": "6AkQGLqsjNvj"
      }
    },
    {
      "cell_type": "markdown",
      "source": [
        "## Evaluating The Model\n",
        "\n",
        "## The words chose are:\n",
        "\n",
        "- laptop (noun)\n",
        "- camera (noun)\n",
        "- weak (verb)\n",
        "- buy (verb)\n",
        "- amazing(adjective)\n",
        "- tv (noun)\n",
        "\n",
        "The 10 closest words are printed for each of the word, along with the word included."
      ],
      "metadata": {
        "id": "MrluCctp0Fao"
      }
    },
    {
      "cell_type": "code",
      "execution_count": 35,
      "source": [
        "WORDS = ['laptop', 'camera', 'weak', 'buy', 'amazing', 'tv']\n",
        "print(\"-\" * 20)\n",
        "for word in WORDS:\n",
        "  cw = find_closest_words(word, NUM_MOST_SIMILAR_WORDS)\n",
        "  print(\"The word is: \", word)\n",
        "  print(\"-\" * 20)\n",
        "  for i, nw in enumerate(cw):\n",
        "    if i == 0:\n",
        "      continue\n",
        "    print(\"{}. {}\".format(i, nw))\n",
        "  print(\"-\" * 20)"
      ],
      "outputs": [
        {
          "output_type": "stream",
          "name": "stdout",
          "text": [
            "--------------------\n",
            "The word is:  laptop\n",
            "--------------------\n",
            "1. headphone\n",
            "2. pc\n",
            "3. home\n",
            "4. ipod\n",
            "5. ears\n",
            "6. old\n",
            "7. head\n",
            "8. long\n",
            "9. double\n",
            "10. network\n",
            "--------------------\n",
            "The word is:  camera\n",
            "--------------------\n",
            "1. plug\n",
            "2. device\n",
            "3. thing\n",
            "4. unit\n",
            "5. radio\n",
            "6. ear\n",
            "7. case\n",
            "8. corner\n",
            "9. product\n",
            "10. problem\n",
            "--------------------\n",
            "The word is:  weak\n",
            "--------------------\n",
            "1. loose\n",
            "2. slightly\n",
            "3. fairly\n",
            "4. somewhat\n",
            "5. extremely\n",
            "6. faster\n",
            "7. seconds\n",
            "8. 40\n",
            "9. otherwise\n",
            "10. pearl\n",
            "--------------------\n",
            "The word is:  buy\n",
            "--------------------\n",
            "1. need\n",
            "2. why\n",
            "3. want\n",
            "4. decided\n",
            "5. re\n",
            "6. are\n",
            "7. wanted\n",
            "8. always\n",
            "9. find\n",
            "10. do\n",
            "--------------------\n",
            "The word is:  amazing\n",
            "--------------------\n",
            "1. awesome\n",
            "2. die\n",
            "3. gives\n",
            "4. true\n",
            "5. fantastic\n",
            "6. important\n",
            "7. annoying\n",
            "8. cool\n",
            "9. slightly\n",
            "10. markup\n",
            "--------------------\n",
            "The word is:  tv\n",
            "--------------------\n",
            "1. off\n",
            "2. right\n",
            "3. first\n",
            "4. into\n",
            "5. belkin\n",
            "6. support\n",
            "7. plug\n",
            "8. phone\n",
            "9. card\n",
            "10. by\n",
            "--------------------\n"
          ]
        }
      ],
      "metadata": {
        "colab": {
          "base_uri": "https://localhost:8080/"
        },
        "id": "809SZ-HAmEh_",
        "outputId": "a6a1205c-a66c-49a7-84fc-76240a53915f"
      }
    },
    {
      "cell_type": "markdown",
      "source": [
        "## Saving The Model\n",
        "---"
      ],
      "metadata": {
        "id": "OkEaTTw4z4Rz"
      }
    },
    {
      "cell_type": "code",
      "execution_count": 22,
      "source": [
        "vector_file = open('/content/drive/MyDrive/embeddings.txt', 'w')\n",
        "vector_file.write('{} {}\\n'.format(len(unique_dict), DIMENSION))\n",
        "for i, vector in enumerate(M_reduced):\n",
        "  vector_file.write('{} {}\\n'.format(reverse_dict[i], vector))"
      ],
      "outputs": [],
      "metadata": {
        "id": "dMnvfgrfn-3Y"
      }
    },
    {
      "cell_type": "markdown",
      "source": [
        "___\n"
      ],
      "metadata": {
        "id": "4o6GFZIXz_mW"
      }
    }
  ]
}